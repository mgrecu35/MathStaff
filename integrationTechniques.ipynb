{
 "cells": [
  {
   "cell_type": "markdown",
   "id": "intermediate-netherlands",
   "metadata": {},
   "source": [
    "---\n",
    "### Integral with obvious substitutions\n",
    "---\n",
    "<span style=\"font-family:Times; font-size:1.5em;\">\n",
    "    <b>When:</b> Some expression of the integral is the derivative of other expression under the integral.<br> \n",
    "    <br>\n",
    "    <b>Examples:</b> \n",
    "    <ul>\n",
    "        <li> $\\int 2x e^{x^2} dx$.  Substitution $x^2=t$ $\\implies$ $2xdx=dt$ $\\implies$ $\\int 2x e^{x^2} dx=\n",
    "        \\int  e^{t} dt=e^t+C=e^{x^2}+C$.</li> <br>\n",
    "        <li> $\\int \\frac{1}{x^2} \\cos(\\frac{1}{x}) dx$.  Substitution $\\frac{1}{x}=t$ $\\implies$ $-\\frac{1}{x^2}dx=dt$ $\\implies$  $\\int \\frac{1}{x^2} \\cos(\\frac{1}{x}) dx=-\\int \\cos(t)=-\\sin(t)+C=-\\sin(\\frac{1}{x})+C$. </li> <br>\n",
    "        <li> $\\int \\cos(x) \\sin^4(x)dx$.  Substitution $\\sin(x)=t$.</li> <br>\n",
    "    </ul>\n",
    "</span>"
   ]
  },
  {
   "cell_type": "markdown",
   "id": "continent-arizona",
   "metadata": {},
   "source": [
    "---\n",
    "### Integration by parts\n",
    "---\n",
    "<span style=\"font-family:Times; font-size:1.5em;\">\n",
    "    <b>When?:</b> Expression under the integral contains products of functions (e.g. polynomial times exponentional, polynomial times trigonometric, etc.). The objective is to reduce the polynomial expression to 1.0 through repeated derivation, or transform the non-polynomial expression into something related to a polynomial (e.g. $\\arctan(x)'=\\frac {1}{1+x^2}$).  In some cases, recurrence formulas may be derived.<br> \n",
    "    <br>\n",
    "    <b>Examples:</b> \n",
    "    <ul>\n",
    "        <li> $\\int x\\: e^x\\: dx= \\int x\\: (e^x)'\\: dx=x\\:e^x-\\int e^x\\:dx$.</li> <br>\n",
    "        <li> $\\int x^2\\: e^x\\: dx= \\int x^2\\: (e^x)'\\: dx=x^2\\:e^x-2 \\int x\\: e^x\\:dx$. The integral in the last expression can be evaluated using the approach in the example above.</li> <br>\n",
    "        <li> $\\int x\\: \\arctan(x)\\: dx$=$\\int (\\frac {x^2}{2})'\\: \\arctan(x)\\: dx$=$(\\frac {x^2}{2})\\: \\arctan(x)-\n",
    "        \\int \\frac {x^2}{2} \\frac{1}{1+x^2}\\:dx$.  Observe that $\\int \\frac {x^2}{1+x^2}\\:dx=\\int (1-\\frac {1}{1+x^2})\\:dx$.</li> <br>\n",
    "        <li> $\\int (\\arcsin(x))^2\\:dx$.  There is no obvious substitution here. We can try integration by parts starting from $(x)'=1$ and aim at transforming the integral into a more algebraic one.  That is, $\\int (\\arcsin(x))^2\\:dx=\\int (x)'\\: (\\arcsin(x))^2\\:dx=x\\: \\arcsin(x)^2 -\\int x\\: 2\\: \\arcsin(x)'\\: \\arcsin(x)\\:dx$. <br>\n",
    "            Integral $\\int x\\: 2\\: \\arcsin(x)'\\: \\arcsin(x)\\:dx=2 \\int \\frac {x} {\\sqrt{1-x^2}}\\: \\arcsin(x)\\:dx$. Observe that $\\frac {x} {\\sqrt{1-x^2}}=-(\\sqrt{1-x^2})'$ and use integration by parts again, i.e. $\\int \\frac {x} {\\sqrt{1-x^2}}\\: \\arcsin(x)\\:dx=-\\sqrt{1-x^2}\\:\\arcsin(x)+\\int \\sqrt{1-x^2}\\: \\arcsin(x)'\\:dx$ =$-\\sqrt{1-x^2}\\:\\arcsin(x)+x+C$.</li>\n",
    "    </ul>\n",
    "</span>"
   ]
  },
  {
   "cell_type": "markdown",
   "id": "convenient-projection",
   "metadata": {},
   "source": [
    "---\n",
    "### Trigonometric substitutions\n",
    "---\n",
    "<span style=\"font-family:Times; font-size:1.5em;\">\n",
    "    <b>When?:</b> Expressions of type $\\sqrt{(a^2-x^2)}$, $\\sqrt{(a^2+x^2)}$, $\\sqrt{(x^2-a^2)}$ appear under the integral, or combinations of trigonometric functions. Calculations involve the use of trigonometric formulae (e.g. $\\sin^2(x)+\\cos^2(x)=1$, $\\sin(2x)=2\\sin(x)\\cos(x)$, etc.) and basic facts such as $\\sin(x)'=\\cos(x)$ and $\\tan(x)'=\\sec^2(x)$.<br> \n",
    "    <br>\n",
    "    <b>Examples:</b> \n",
    "    <ul>\n",
    "        <li> $\\int \\frac {dx} {x^2\\: \\sqrt{1-x^2}}$.  Substitution $x=\\cos(t) \\implies dx=-\\sin(t)\\:dt$ $\\implies$ $\\int \\frac {dx} {x^2\\: \\sqrt{1-x^2}}=\\int \\frac {1}{\\cos^2(t)} \\frac {-\\sin(t)\\:dt} {\\sin t}$ =$-\\tan(t)\\: +C$=\n",
    "        $-\\frac {\\sqrt{1-x^2}}{x}\\: +C$.  Note: this integral can be solved differently using substitution $x=\\frac {1}{t}$.</li><br>\n",
    "        <li> $\\int \\sin^3\\frac{x}{2}\\cos^3\\frac{x}{2}\\:dx$ This integral may be calculated in multiple ways. One way is to observe that $\\sin^3\\frac{x}{2}\\cos^3\\frac{x}{2}=\\frac{\\sin^3(x)}{8}$ and then rewrite the integral as $\\frac{1}{8}\\int \\sin^3(x)\\: dx=\\frac{1}{8}\\int \\sin(x)\\: (1-\\cos^2(x))\\: dx$.  A substitution of type $t=cos(x)$ transforms the function under the integral into a polynomial.</li><br>\n",
    "        <li>$\\int \\frac {x^3} {x^2\\: \\sqrt{9-x^2}}\\:dx$.  Substitution $x=3\\:\\sin(t)$ transforms the integral into a much simpler one.</li><br>\n",
    "        <li>$\\int {5\\tan^5(x)}\\:\\sec^3(x)\\:dx$.  This may be calculated by rewritting  $\\tan^5(x)\\:\\sec^3(x)$ as $\\frac {\\sin(x)\\: (1-\\cos^2(x))^2} {\\cos^8(x)}$ and using substitution $\\cos(x)=t$.</li><br>\n",
    "        <li>$\\int {7\\tan^4(x)}\\:\\sec^4(x)\\:dx$.  Use  $\\tan^4(x)\\sec^4(x)=\\tan^4(x)(1+\\tan^2(x))\\sec^2(x)$ and substitution $\\tan(x)=t.$</li>\n",
    " </ul>\n",
    "</span>"
   ]
  },
  {
   "cell_type": "code",
   "execution_count": null,
   "id": "announced-physics",
   "metadata": {},
   "outputs": [],
   "source": []
  }
 ],
 "metadata": {
  "kernelspec": {
   "display_name": "Python 3",
   "language": "python",
   "name": "python3"
  },
  "language_info": {
   "codemirror_mode": {
    "name": "ipython",
    "version": 3
   },
   "file_extension": ".py",
   "mimetype": "text/x-python",
   "name": "python",
   "nbconvert_exporter": "python",
   "pygments_lexer": "ipython3",
   "version": "3.8.3"
  }
 },
 "nbformat": 4,
 "nbformat_minor": 5
}
